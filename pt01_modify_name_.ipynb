{
 "cells": [
  {
   "cell_type": "code",
   "execution_count": 1,
   "metadata": {},
   "outputs": [
    {
     "name": "stdout",
     "output_type": "stream",
     "text": [
      "test\n"
     ]
    }
   ],
   "source": [
    "print(\"test\")"
   ]
  },
  {
   "cell_type": "markdown",
   "metadata": {},
   "source": []
  },
  {
   "cell_type": "markdown",
   "metadata": {},
   "source": []
  },
  {
   "cell_type": "markdown",
   "metadata": {},
   "source": [
    "# place holder name"
   ]
  },
  {
   "cell_type": "code",
   "execution_count": null,
   "metadata": {},
   "outputs": [],
   "source": []
  },
  {
   "cell_type": "code",
   "execution_count": null,
   "metadata": {},
   "outputs": [],
   "source": []
  },
  {
   "cell_type": "code",
   "execution_count": null,
   "metadata": {},
   "outputs": [],
   "source": []
  },
  {
   "cell_type": "markdown",
   "metadata": {},
   "source": [
    "### Methods for time series \n",
    "\n",
    "added time-series specific functions for missing-value handling and predictions."
   ]
  },
  {
   "cell_type": "code",
   "execution_count": null,
   "metadata": {},
   "outputs": [],
   "source": []
  },
  {
   "cell_type": "code",
   "execution_count": null,
   "metadata": {},
   "outputs": [],
   "source": []
  },
  {
   "cell_type": "code",
   "execution_count": null,
   "metadata": {},
   "outputs": [],
   "source": []
  },
  {
   "cell_type": "markdown",
   "metadata": {},
   "source": [
    "Time series forecasting is a critical area in various fields like finance, economics, weather forecasting, and more. As of my last update in April 2023, several common algorithms are widely used for time series forecasting. Here are some of them:\n",
    "\n",
    "    ARIMA (Autoregressive Integrated Moving Average): This is perhaps one of the most popular models. It combines autoregressive features (relying on past values) with moving average elements (accounting for past error terms). The 'integrated' part involves differencing the series to make it stationary, i.e., to have constant mean and variance over time.\n",
    "\n",
    "Seasonal ARIMA (SARIMA): An extension of ARIMA that also accounts for seasonality. It’s especially useful in data where seasonal patterns are prominent, like monthly sales data.\n",
    "\n",
    "    Exponential Smoothing (Holt-Winters): This method applies exponentially decreasing weights to past observations. The Holt-Winters method further extends this to handle trends and seasonality in the data.\n",
    "\n",
    "Prophet: Developed by Facebook, it’s a procedure for forecasting time series data based on an additive model where non-linear trends are fit with yearly, weekly, and daily seasonality, plus holiday effects.\n",
    "\n",
    "    Long Short-Term Memory (LSTM): A type of recurrent neural network (RNN) used in deep learning, particularly effective for predictions involving sequential data, such as time series.\n",
    "\n",
    "    Vector Autoregression (VAR): This method models the linear interdependencies among multiple time series.\n",
    "\n",
    "    GARCH (Generalized Autoregressive Conditional Heteroskedasticity): Commonly used in financial time series to model volatility (i.e., the variance of errors changes over time).\n",
    "\n",
    "Now, let's delve deeper into ARIMA, which is a cornerstone of time series forecasting:\n",
    "\n",
    "ARIMA Model Explained:\n",
    "\n",
    "ARIMA models are characterized by three parameters: (p, d, q).\n",
    "\n",
    "    p (Autoregression - AR): The number of lag observations included in the model, or the lag order. It represents the relationship between the current observation and observations over previous periods.\n",
    "\n",
    "    d (Integrated - I): The number of times that the raw observations are differenced. This is the integration order, used to make the time series stationary (i.e., to remove trend and seasonality).\n",
    "\n",
    "    q (Moving Average - MA): The size of the moving average window, or the moving average order. It models the relationship between the observation and a residual error from a moving average model applied to lagged observations.\n",
    "\n",
    "The key idea behind ARIMA is to transform a non-stationary time series into a stationary time series (through differencing) and then apply statistical models to predict future values based on the properties of this stationary series. This approach makes ARIMA very versatile and applicable to a wide range of time series data, albeit with the limitation that it assumes linearity and stationarity in the time series after differencing."
   ]
  },
  {
   "cell_type": "code",
   "execution_count": null,
   "metadata": {},
   "outputs": [],
   "source": []
  },
  {
   "cell_type": "markdown",
   "metadata": {},
   "source": [
    "Handling missing values in time series data is crucial as it can significantly impact the quality of the forecasts. Dropping rows with missing values can lead to a loss of valuable information, especially in time series where the temporal sequence is important. Here are some common techniques to handle missing values in time series data:\n",
    "\n",
    "    Imputation with Mean/Median: Replace missing values with the mean or median of the series. This is a simple approach but can be effective, especially if the time series does not exhibit strong temporal dependencies.\n",
    "\n",
    "    Last Observation Carried Forward (LOCF): Replace missing values with the last observed value. This method assumes that the missing value is likely to be similar to the last available value.\n",
    "\n",
    "    Next Observation Carried Backward (NOCB): Similar to LOCF, but it carries the next available observation backward to replace the missing value. This can be useful if data is collected retrospectively.\n",
    "\n",
    "    Linear Interpolation: Fill in missing values by linearly interpolating between the available data points. This method assumes a linear relationship between points and is often used for time series with a trend.\n",
    "\n",
    "    Time Series Specific Methods:\n",
    "        Seasonal Adjustment: Adjust the series for seasonality and then impute missing values, particularly useful in strongly seasonal data.\n",
    "        Trend Interpolation: If the series has a clear trend, missing values can be estimated by interpolating along the trend line.\n",
    "\n",
    "    Statistical Imputation:\n",
    "        ARIMA-based Imputation: Utilize an ARIMA model to estimate missing values based on the autoregressive nature of the series.\n",
    "        Multiple Imputation: Use statistical models to create multiple ‘complete’ datasets by estimating the missing values, then average the imputed values.\n",
    "\n",
    "    Machine Learning Techniques: Apply machine learning algorithms such as k-Nearest Neighbors (k-NN), Random Forest, or neural networks to predict missing values based on patterns in the data.\n",
    "\n",
    "    Splines or Polynomial Fitting: Use spline or polynomial fitting for a more flexible nonlinear interpolation, suitable for complex time series patterns.\n",
    "\n",
    "    Rolling Window Statistics: Replace missing values using rolling window calculations (like rolling mean or median) of nearby points.\n",
    "\n",
    "    Hybrid Methods: Combine different methods, such as first imputing missing values using a simple method (like linear interpolation) and then refining the imputation using a more complex model (like ARIMA or machine learning).\n",
    "\n",
    "Each of these methods has its strengths and weaknesses, and the choice of method often depends on the nature of the time series, the pattern of missingness, and the specific application. For instance, linear interpolation might work well for data with a linear trend but not for seasonal or irregular data. Similarly, machine learning techniques might be powerful but require a sufficient amount of data to train the models effectively."
   ]
  },
  {
   "cell_type": "code",
   "execution_count": null,
   "metadata": {},
   "outputs": [],
   "source": []
  }
 ],
 "metadata": {
  "kernelspec": {
   "display_name": "Python 3",
   "language": "python",
   "name": "python3"
  },
  "language_info": {
   "codemirror_mode": {
    "name": "ipython",
    "version": 3
   },
   "file_extension": ".py",
   "mimetype": "text/x-python",
   "name": "python",
   "nbconvert_exporter": "python",
   "pygments_lexer": "ipython3",
   "version": "3.10.12"
  }
 },
 "nbformat": 4,
 "nbformat_minor": 2
}
