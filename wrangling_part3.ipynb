{
 "cells": [
  {
   "cell_type": "markdown",
   "metadata": {},
   "source": [
    "2020 to 2021"
   ]
  },
  {
   "cell_type": "code",
   "execution_count": 3,
   "metadata": {},
   "outputs": [
    {
     "name": "stdout",
     "output_type": "stream",
     "text": [
      "Downloaded /mnt/d/OneDrive - University College London/CUSP_Data_Dive_2024/Hourly_Air_Quality_2020Nov_2021Nov/CLDP001_Hourly.json\n",
      "Downloaded /mnt/d/OneDrive - University College London/CUSP_Data_Dive_2024/Hourly_Air_Quality_2020Nov_2021Nov/CLDP002_Hourly.json\n",
      "Downloaded /mnt/d/OneDrive - University College London/CUSP_Data_Dive_2024/Hourly_Air_Quality_2020Nov_2021Nov/CLDP003_Hourly.json\n",
      "Downloaded /mnt/d/OneDrive - University College London/CUSP_Data_Dive_2024/Hourly_Air_Quality_2020Nov_2021Nov/CLDP004_Hourly.json\n",
      "Downloaded /mnt/d/OneDrive - University College London/CUSP_Data_Dive_2024/Hourly_Air_Quality_2020Nov_2021Nov/CLDP005_Hourly.json\n",
      "Downloaded /mnt/d/OneDrive - University College London/CUSP_Data_Dive_2024/Hourly_Air_Quality_2020Nov_2021Nov/CLDP006_Hourly.json\n",
      "Downloaded /mnt/d/OneDrive - University College London/CUSP_Data_Dive_2024/Hourly_Air_Quality_2020Nov_2021Nov/CLDP007_Hourly.json\n",
      "Downloaded /mnt/d/OneDrive - University College London/CUSP_Data_Dive_2024/Hourly_Air_Quality_2020Nov_2021Nov/CLDP008_Hourly.json\n",
      "Downloaded /mnt/d/OneDrive - University College London/CUSP_Data_Dive_2024/Hourly_Air_Quality_2020Nov_2021Nov/CLDP009_Hourly.json\n"
     ]
    }
   ],
   "source": [
    "import requests\n",
    "\n",
    "base_url = \"https://api.breathelondon.org/api/getClarityData/CLDP000\"\n",
    "#https://api.breathelondon.org/api/getClarityData/CLDP0010/IPM25/Wed 30 Nov 2022 00:00:00 GMT/Thu 30 Nov 2023 00:00:00 GMT/Hourly?key=a6f174cc-b753-11ec-b909-0242ac120002\n",
    "\n",
    "start = 1\n",
    "end = 9\n",
    "for i in range(start, end+1):\n",
    "    url = f\"{base_url}{i}/IPM25/Mon 30 Nov 2020 00:00:00 GMT/Tue 30 Nov 2021 00:00:00 GMT/Hourly?key=a6f174cc-b753-11ec-b909-0242ac120002\"\n",
    "    filename = f\"/mnt/d/OneDrive - University College London/CUSP_Data_Dive_2024/Hourly_Air_Quality_2020Nov_2021Nov/CLDP00{i}_Hourly.json\"\n",
    "    \n",
    "    response = requests.get(url)\n",
    "    if response.status_code == 200:\n",
    "        with open(filename, 'wb') as file:\n",
    "            file.write(response.content)\n",
    "        print(f\"Downloaded {filename}\")\n",
    "    else:\n",
    "        print(f\"Failed to download {filename}\")"
   ]
  },
  {
   "cell_type": "code",
   "execution_count": null,
   "metadata": {},
   "outputs": [],
   "source": [
    "import os\n",
    "import pandas as pd\n",
    "import json\n",
    "\n",
    "# Specify the directory path\n",
    "directory = r\"/mnt/d/OneDrive - University College London/CUSP_Data_Dive_2024/Hourly_Air_Quality_2020Nov_2021Nov/\"\n",
    "\n",
    "# Create an empty list to store the dataframes\n",
    "dfs = []\n",
    "\n",
    "# Iterate over the files in the directory\n",
    "for filename in os.listdir(directory):\n",
    "    if filename.endswith(\".json\"):\n",
    "        # Construct the file path\n",
    "        filepath = os.path.join(directory, filename)\n",
    "        \n",
    "        # Read the JSON file into a dataframe\n",
    "        with open(filepath) as f:\n",
    "            data = json.load(f)\n",
    "            df = pd.DataFrame(data)\n",
    "        \n",
    "        # Append the dataframe to the list\n",
    "        dfs.append(df)\n",
    "\n",
    "# Merge all dataframes into one big dataframe\n",
    "merged_df = pd.concat(dfs)\n",
    "\n",
    "# Print the merged dataframe\n",
    "print(merged_df)"
   ]
  },
  {
   "cell_type": "code",
   "execution_count": null,
   "metadata": {},
   "outputs": [],
   "source": [
    "merged_df_keep = merged_df.drop('DurationNS', axis=1)"
   ]
  },
  {
   "cell_type": "code",
   "execution_count": null,
   "metadata": {},
   "outputs": [],
   "source": []
  }
 ],
 "metadata": {
  "kernelspec": {
   "display_name": "Python 3",
   "language": "python",
   "name": "python3"
  },
  "language_info": {
   "codemirror_mode": {
    "name": "ipython",
    "version": 3
   },
   "file_extension": ".py",
   "mimetype": "text/x-python",
   "name": "python",
   "nbconvert_exporter": "python",
   "pygments_lexer": "ipython3",
   "version": "3.10.12"
  }
 },
 "nbformat": 4,
 "nbformat_minor": 2
}
